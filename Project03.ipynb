{
 "cells": [
  {
   "cell_type": "markdown",
   "id": "divided-subject",
   "metadata": {},
   "source": [
    "# Project 03: Fake News Detector"
   ]
  },
  {
   "cell_type": "markdown",
   "id": "dried-cholesterol",
   "metadata": {},
   "source": [
    "## Danh sách thành viên và phân công công việc"
   ]
  },
  {
   "cell_type": "markdown",
   "id": "wound-planner",
   "metadata": {},
   "source": []
  },
  {
   "cell_type": "markdown",
   "id": "tested-attack",
   "metadata": {},
   "source": [
    "## Các thư viện sử dụng"
   ]
  },
  {
   "cell_type": "code",
   "execution_count": 1,
   "id": "exciting-result",
   "metadata": {},
   "outputs": [],
   "source": [
    "import numpy as np\n",
    "import pandas as pd\n",
    "import matplotlib.pyplot as plt\n",
    "import itertools\n",
    "from vncorenlp import VnCoreNLP\n",
    "from sklearn.model_selection import train_test_split\n",
    "from sklearn.feature_extraction.text import TfidfVectorizer\n",
    "from sklearn.linear_model import PassiveAggressiveClassifier\n",
    "from sklearn.metrics import accuracy_score, confusion_matrix\n",
    "from sklearn.linear_model import LogisticRegression\n",
    "import warnings\n",
    "warnings.filterwarnings(\"ignore\")\n",
    "import pickle"
   ]
  },
  {
   "cell_type": "markdown",
   "id": "mechanical-hurricane",
   "metadata": {},
   "source": [
    "## Đọc dữ liệu"
   ]
  },
  {
   "cell_type": "markdown",
   "id": "polish-situation",
   "metadata": {},
   "source": [
    "Dữ liệu và thư viện được sử dụng:\n",
    "- Bộ dữ liệu vn_news_223_tdlfr: Dữ liệu 223 record bản tin tiếng Việt.\n",
    "- Stop word và xử lý Tokenizer sử dụng dữ liệu và tool như gợi ý."
   ]
  },
  {
   "cell_type": "markdown",
   "id": "documented-invasion",
   "metadata": {},
   "source": [
    "### Bộ dữ liệu VNFD"
   ]
  },
  {
   "cell_type": "code",
   "execution_count": 2,
   "id": "retained-aside",
   "metadata": {
    "scrolled": false
   },
   "outputs": [
    {
     "data": {
      "text/html": [
       "<div>\n",
       "<style scoped>\n",
       "    .dataframe tbody tr th:only-of-type {\n",
       "        vertical-align: middle;\n",
       "    }\n",
       "\n",
       "    .dataframe tbody tr th {\n",
       "        vertical-align: top;\n",
       "    }\n",
       "\n",
       "    .dataframe thead th {\n",
       "        text-align: right;\n",
       "    }\n",
       "</style>\n",
       "<table border=\"1\" class=\"dataframe\">\n",
       "  <thead>\n",
       "    <tr style=\"text-align: right;\">\n",
       "      <th></th>\n",
       "      <th>text</th>\n",
       "      <th>domain</th>\n",
       "      <th>label</th>\n",
       "    </tr>\n",
       "  </thead>\n",
       "  <tbody>\n",
       "    <tr>\n",
       "      <th>0</th>\n",
       "      <td>Thủ tướng Abe cúi đầu xin lỗi vì hành động phi...</td>\n",
       "      <td>binhluan.biz</td>\n",
       "      <td>1</td>\n",
       "    </tr>\n",
       "    <tr>\n",
       "      <th>1</th>\n",
       "      <td>Thủ tướng Nhật cúi đầu xin lỗi vì tinh thần ph...</td>\n",
       "      <td>www.ipick.vn</td>\n",
       "      <td>1</td>\n",
       "    </tr>\n",
       "    <tr>\n",
       "      <th>2</th>\n",
       "      <td>Choáng! Cơ trưởng đeo khăn quàng quẩy banh nóc...</td>\n",
       "      <td>tintucqpvn.net</td>\n",
       "      <td>1</td>\n",
       "    </tr>\n",
       "    <tr>\n",
       "      <th>3</th>\n",
       "      <td>Chưa bao giờ nhạc Kpop lại dễ hát đến thế!!!\\n...</td>\n",
       "      <td>tintucqpvn.net</td>\n",
       "      <td>1</td>\n",
       "    </tr>\n",
       "    <tr>\n",
       "      <th>4</th>\n",
       "      <td>Đại học Hutech sẽ áp dụng cải cách \"Tiếq Việt\"...</td>\n",
       "      <td>www.gioitreviet.net</td>\n",
       "      <td>1</td>\n",
       "    </tr>\n",
       "  </tbody>\n",
       "</table>\n",
       "</div>"
      ],
      "text/plain": [
       "                                                text               domain  \\\n",
       "0  Thủ tướng Abe cúi đầu xin lỗi vì hành động phi...         binhluan.biz   \n",
       "1  Thủ tướng Nhật cúi đầu xin lỗi vì tinh thần ph...         www.ipick.vn   \n",
       "2  Choáng! Cơ trưởng đeo khăn quàng quẩy banh nóc...       tintucqpvn.net   \n",
       "3  Chưa bao giờ nhạc Kpop lại dễ hát đến thế!!!\\n...       tintucqpvn.net   \n",
       "4  Đại học Hutech sẽ áp dụng cải cách \"Tiếq Việt\"...  www.gioitreviet.net   \n",
       "\n",
       "   label  \n",
       "0      1  \n",
       "1      1  \n",
       "2      1  \n",
       "3      1  \n",
       "4      1  "
      ]
     },
     "execution_count": 2,
     "metadata": {},
     "output_type": "execute_result"
    }
   ],
   "source": [
    "#pd.set_option('display.max_colwidth', None)\n",
    "vnfd_df = pd.read_csv('vn_news_223_tdlfr.csv')\n",
    "vnfd_df.head()"
   ]
  },
  {
   "cell_type": "markdown",
   "id": "ordinary-niger",
   "metadata": {},
   "source": [
    "### Dữ liệu về Stop word"
   ]
  },
  {
   "cell_type": "code",
   "execution_count": 3,
   "id": "bright-spencer",
   "metadata": {},
   "outputs": [],
   "source": [
    "def read_stopword_file(path):\n",
    "    stopword_file = open(path, \"r\", encoding = 'utf-8')\n",
    "    sw = stopword_file.readlines()\n",
    "    stopword_file.close()\n",
    "    sw = [x.replace('\\n', '') for x in sw]\n",
    "    return sw"
   ]
  },
  {
   "cell_type": "code",
   "execution_count": 4,
   "id": "tight-wrestling",
   "metadata": {},
   "outputs": [],
   "source": [
    "sw = read_stopword_file(\"vietnamese-stopwords.txt\")"
   ]
  },
  {
   "cell_type": "markdown",
   "id": "healthy-architecture",
   "metadata": {},
   "source": [
    "## Tiền xử lý"
   ]
  },
  {
   "cell_type": "markdown",
   "id": "delayed-buffer",
   "metadata": {},
   "source": [
    "Trước khi xác định các bước tiền xử lý, nhóm đã quan sát trên bộ dữ liệu và có những đánh giá sau:\n",
    "- Theo như quan sát trên dữ liệu, những đường link thường sẽ dài hơn 1 chữ đơn tiếng Việt thông thường, tuy nhiên một số nơi có chữ bị gộp lại, chẳng hạn bởi '\\n' hay dùng tiếng nước ngoài như 'Photoshop'. Như vậy, loại bỏ link và kí tự đặc biệt sẽ được xử lý đồng thời theo thứ tự sau:\n",
    "    - Loại bỏ '\\n', '\\t'.\n",
    "    - Tìm link trong chuỗi (phân tách chuỗi bằng kí tự ' ', sau đó lấy ra phần tử có độ dài > 15 (15 không phải con số thực sự chính xác nhưng hầu hết những từ có nghĩa, kể cả từ tiếng nước ngoài thông dụng ít khi có độ dài ở mức này. Những trường hợp còn sót lại thì xem như một từ có nghĩa hoặc tên riêng --!).\n",
    "    - Loại bỏ các kí tự đặc biệt khác trừ ' '.\n",
    "    - Xóa bỏ các khoảng trắng bị lặp.\n",
    "- Bước Lemmatize có lẽ không cần thực hiện vì tiếng Việt không có những chữ cái như vậy, hoặc nếu có xuất hiện trong văn bản, đó có thể là do viết lỗi, teencode hoặc có nghĩa trong văn cảnh đó."
   ]
  },
  {
   "cell_type": "markdown",
   "id": "proof-shock",
   "metadata": {},
   "source": [
    "Các bước tiền xử lý:\n",
    "- Loại bỏ các kí tự đặc biệt và đường link.\n",
    "- Chuyển chữ hoa về chữ thường (ta tiến hành bước này trước vì dữ liệu về stop word đều được viết thường).\n",
    "- Loại bỏ stop word.\n",
    "- Tokenizer."
   ]
  },
  {
   "cell_type": "markdown",
   "id": "polyphonic-composer",
   "metadata": {},
   "source": [
    "#### Loại bỏ kí tự đặc biệt và đường link"
   ]
  },
  {
   "cell_type": "code",
   "execution_count": 5,
   "id": "latin-leone",
   "metadata": {},
   "outputs": [],
   "source": [
    "def remove_single_spec_char(char):\n",
    "    if char != ' ':\n",
    "        if char.isalnum() == False:\n",
    "            char = ' '\n",
    "    return char"
   ]
  },
  {
   "cell_type": "code",
   "execution_count": 6,
   "id": "exact-radar",
   "metadata": {},
   "outputs": [],
   "source": [
    "#Do hàm trên không tìm được những kí tự như \\n hay \\t nên ta sẽ xử lý riêng.\n",
    "def remove_specChar_link(string):\n",
    "    result = ''\n",
    "    string = string.replace('\\n', ' ').replace('\\t', ' ')\n",
    "    sub_text = string.split(' ')\n",
    "    links = [link for link in sub_text if len(link) > 15]\n",
    "    for link in links:\n",
    "        string = string.replace(link, ' ')\n",
    "    for char in string:\n",
    "        result = result + remove_single_spec_char(char)\n",
    "    result = ' '.join(result.split())    \n",
    "    return result"
   ]
  },
  {
   "cell_type": "code",
   "execution_count": 7,
   "id": "analyzed-romantic",
   "metadata": {},
   "outputs": [
    {
     "data": {
      "text/plain": [
       "'Thủ tướng Nhật cúi đầu xin lỗi vì tinh thần phi thể thao của đội bóng Sáng 19 6 Thủ tướng Nhật Bản Shinzo Abe công khai gửi lời xin lỗi tới Nhật hoàng và toàn bộ người dân vì tinh thần thi đấu phi thể thao của đội tuyển Nhật tại World Cup 2018 Với tinh thần của những võ sĩ đạo Samurai nhưng đội tuyển Nhật Bản đã có những hành động thiếu tinh thần thượng võ trong thi đấu tại World Cup để lại nhiều chỉ trích và bất bình cho toàn dân làm mất hình ảnh kiên cường của người dân Nhật Bản trên đấu trường quốc tế Là người đứng đầu tôi xin thành thật nhận trách nhiệm và gửi lời xin lỗi sâu sắc tới nhân dân ông Abe cúi đầu nhận trách nhiệm về mình Tôi cảm phục hành động này của Thủ tướng Nhật Ông ấy ý thức rất cao về hình ảnh danh dự quốc gia Nước Nhật được thế giới tôn trọng kính nể không phải vì nước này là cường quốc kinh tế mà chính là cường quốc về lòng tự trọng'"
      ]
     },
     "execution_count": 7,
     "metadata": {},
     "output_type": "execute_result"
    }
   ],
   "source": [
    "#TEST\n",
    "test_string = remove_specChar_link(vnfd_df.text[1])\n",
    "test_string"
   ]
  },
  {
   "cell_type": "markdown",
   "id": "surprising-robinson",
   "metadata": {},
   "source": [
    "#### Chuyển chữ hoa về chữ thường"
   ]
  },
  {
   "cell_type": "code",
   "execution_count": 8,
   "id": "subject-manhattan",
   "metadata": {},
   "outputs": [
    {
     "data": {
      "text/plain": [
       "'thủ tướng nhật cúi đầu xin lỗi vì tinh thần phi thể thao của đội bóng sáng 19 6 thủ tướng nhật bản shinzo abe công khai gửi lời xin lỗi tới nhật hoàng và toàn bộ người dân vì tinh thần thi đấu phi thể thao của đội tuyển nhật tại world cup 2018 với tinh thần của những võ sĩ đạo samurai nhưng đội tuyển nhật bản đã có những hành động thiếu tinh thần thượng võ trong thi đấu tại world cup để lại nhiều chỉ trích và bất bình cho toàn dân làm mất hình ảnh kiên cường của người dân nhật bản trên đấu trường quốc tế là người đứng đầu tôi xin thành thật nhận trách nhiệm và gửi lời xin lỗi sâu sắc tới nhân dân ông abe cúi đầu nhận trách nhiệm về mình tôi cảm phục hành động này của thủ tướng nhật ông ấy ý thức rất cao về hình ảnh danh dự quốc gia nước nhật được thế giới tôn trọng kính nể không phải vì nước này là cường quốc kinh tế mà chính là cường quốc về lòng tự trọng'"
      ]
     },
     "execution_count": 8,
     "metadata": {},
     "output_type": "execute_result"
    }
   ],
   "source": [
    "#TEST\n",
    "test_string = test_string.lower()\n",
    "test_string"
   ]
  },
  {
   "cell_type": "markdown",
   "id": "pressing-crown",
   "metadata": {},
   "source": [
    "#### Loại bỏ stop word"
   ]
  },
  {
   "cell_type": "code",
   "execution_count": 9,
   "id": "established-internet",
   "metadata": {},
   "outputs": [],
   "source": [
    "def remove_stopword(string, stop_word):\n",
    "    for stop_word in stop_word:\n",
    "        string = string.replace(' ' + stop_word + ' ', ' ')\n",
    "    return string"
   ]
  },
  {
   "cell_type": "code",
   "execution_count": 10,
   "id": "opposed-separation",
   "metadata": {
    "scrolled": true
   },
   "outputs": [
    {
     "data": {
      "text/plain": [
       "'thủ tướng nhật cúi đầu lỗi tinh thần phi thể thao đội bóng 19 6 thủ tướng nhật shinzo abe công khai gửi lỗi nhật hoàng toàn dân tinh thần thi đấu phi thể thao đội tuyển nhật world cup 2018 tinh thần võ sĩ đạo samurai đội tuyển nhật hành động tinh thần thượng võ thi đấu world cup trích bất bình toàn dân hình ảnh kiên cường dân nhật đấu trường quốc tế đứng đầu thành trách nhiệm gửi lỗi sâu sắc nhân dân abe cúi đầu trách nhiệm cảm phục hành động thủ tướng nhật thức hình ảnh danh dự quốc gia nhật giới tôn trọng kính nể cường quốc kinh tế cường quốc trọng'"
      ]
     },
     "execution_count": 10,
     "metadata": {},
     "output_type": "execute_result"
    }
   ],
   "source": [
    "#TEST\n",
    "test_string = remove_stopword(test_string, sw)\n",
    "test_string"
   ]
  },
  {
   "cell_type": "markdown",
   "id": "seasonal-scott",
   "metadata": {},
   "source": [
    "#### Tokenizer"
   ]
  },
  {
   "cell_type": "code",
   "execution_count": 11,
   "id": "focused-class",
   "metadata": {},
   "outputs": [],
   "source": [
    "annotator = VnCoreNLP('VnCoreNLP-1.1.1.jar', annotators=\"wseg,pos,ner,parse\", max_heap_size='-Xmx2g')\n",
    "def tokenizer(string):\n",
    "    word_segmented_text = annotator.tokenize(string)[0]\n",
    "    return word_segmented_text"
   ]
  },
  {
   "cell_type": "code",
   "execution_count": 12,
   "id": "minor-rainbow",
   "metadata": {},
   "outputs": [
    {
     "data": {
      "text/plain": [
       "'thủ_tướng'"
      ]
     },
     "execution_count": 12,
     "metadata": {},
     "output_type": "execute_result"
    }
   ],
   "source": [
    "#TEST\n",
    "test_string = tokenizer(test_string)\n",
    "test_string[0][:10]"
   ]
  },
  {
   "cell_type": "markdown",
   "id": "stretch-tomato",
   "metadata": {},
   "source": [
    "#### Tổng hợp tiền xử lý"
   ]
  },
  {
   "cell_type": "code",
   "execution_count": 13,
   "id": "surprised-gender",
   "metadata": {},
   "outputs": [],
   "source": [
    "def text_preprocessing(text, stop_word):\n",
    "    new_text = remove_specChar_link(text)\n",
    "    new_text = new_text.lower()\n",
    "    new_text = remove_stopword(new_text, stop_word)\n",
    "    return new_text\n",
    "\n",
    "def preprocessing(data):\n",
    "    sub_data = data.copy()\n",
    "    stop_word = read_stopword_file(\"vietnamese-stopwords.txt\")\n",
    "    sub_data.text = sub_data['text'].apply(lambda x: text_preprocessing(x, stop_word))\n",
    "    return sub_data"
   ]
  },
  {
   "cell_type": "code",
   "execution_count": 14,
   "id": "contrary-thomson",
   "metadata": {},
   "outputs": [
    {
     "data": {
      "text/html": [
       "<div>\n",
       "<style scoped>\n",
       "    .dataframe tbody tr th:only-of-type {\n",
       "        vertical-align: middle;\n",
       "    }\n",
       "\n",
       "    .dataframe tbody tr th {\n",
       "        vertical-align: top;\n",
       "    }\n",
       "\n",
       "    .dataframe thead th {\n",
       "        text-align: right;\n",
       "    }\n",
       "</style>\n",
       "<table border=\"1\" class=\"dataframe\">\n",
       "  <thead>\n",
       "    <tr style=\"text-align: right;\">\n",
       "      <th></th>\n",
       "      <th>text</th>\n",
       "      <th>domain</th>\n",
       "      <th>label</th>\n",
       "    </tr>\n",
       "  </thead>\n",
       "  <tbody>\n",
       "    <tr>\n",
       "      <th>0</th>\n",
       "      <td>thủ tướng abe cúi đầu lỗi hành động phi thể th...</td>\n",
       "      <td>binhluan.biz</td>\n",
       "      <td>1</td>\n",
       "    </tr>\n",
       "    <tr>\n",
       "      <th>1</th>\n",
       "      <td>thủ tướng nhật cúi đầu lỗi tinh thần phi thể t...</td>\n",
       "      <td>www.ipick.vn</td>\n",
       "      <td>1</td>\n",
       "    </tr>\n",
       "    <tr>\n",
       "      <th>2</th>\n",
       "      <td>choáng trưởng đeo khăn quàng quẩy banh sân khấ...</td>\n",
       "      <td>tintucqpvn.net</td>\n",
       "      <td>1</td>\n",
       "    </tr>\n",
       "    <tr>\n",
       "      <th>3</th>\n",
       "      <td>chưa nhạc kpop hát giáo sư nguyễn lân dũng thà...</td>\n",
       "      <td>tintucqpvn.net</td>\n",
       "      <td>1</td>\n",
       "    </tr>\n",
       "    <tr>\n",
       "      <th>4</th>\n",
       "      <td>đại học hutech áp dụng cải tiếq việt học 2018 ...</td>\n",
       "      <td>www.gioitreviet.net</td>\n",
       "      <td>1</td>\n",
       "    </tr>\n",
       "    <tr>\n",
       "      <th>...</th>\n",
       "      <td>...</td>\n",
       "      <td>...</td>\n",
       "      <td>...</td>\n",
       "    </tr>\n",
       "    <tr>\n",
       "      <th>218</th>\n",
       "      <td>siêu máy bay a350 chở cđv việt nam đi malaysia...</td>\n",
       "      <td>dantri.com.vn</td>\n",
       "      <td>0</td>\n",
       "    </tr>\n",
       "    <tr>\n",
       "      <th>219</th>\n",
       "      <td>thưởng 20 000 usd đội tuyển cờ vua việt nam ol...</td>\n",
       "      <td>dantri.com.vn</td>\n",
       "      <td>0</td>\n",
       "    </tr>\n",
       "    <tr>\n",
       "      <th>220</th>\n",
       "      <td>trường sơn giành hcv giải cờ vua đồng đội giới...</td>\n",
       "      <td>dantri.com.vn</td>\n",
       "      <td>0</td>\n",
       "    </tr>\n",
       "    <tr>\n",
       "      <th>221</th>\n",
       "      <td>chuyện chàng sinh viên luật kiện tướng lê tuấn...</td>\n",
       "      <td>dantri.com.vn</td>\n",
       "      <td>0</td>\n",
       "    </tr>\n",
       "    <tr>\n",
       "      <th>222</th>\n",
       "      <td>tiền đạo malaysia hàng thủ đội tuyển việt nam ...</td>\n",
       "      <td>dantri.com.vn</td>\n",
       "      <td>0</td>\n",
       "    </tr>\n",
       "  </tbody>\n",
       "</table>\n",
       "<p>223 rows × 3 columns</p>\n",
       "</div>"
      ],
      "text/plain": [
       "                                                  text               domain  \\\n",
       "0    thủ tướng abe cúi đầu lỗi hành động phi thể th...         binhluan.biz   \n",
       "1    thủ tướng nhật cúi đầu lỗi tinh thần phi thể t...         www.ipick.vn   \n",
       "2    choáng trưởng đeo khăn quàng quẩy banh sân khấ...       tintucqpvn.net   \n",
       "3    chưa nhạc kpop hát giáo sư nguyễn lân dũng thà...       tintucqpvn.net   \n",
       "4    đại học hutech áp dụng cải tiếq việt học 2018 ...  www.gioitreviet.net   \n",
       "..                                                 ...                  ...   \n",
       "218  siêu máy bay a350 chở cđv việt nam đi malaysia...        dantri.com.vn   \n",
       "219  thưởng 20 000 usd đội tuyển cờ vua việt nam ol...        dantri.com.vn   \n",
       "220  trường sơn giành hcv giải cờ vua đồng đội giới...        dantri.com.vn   \n",
       "221  chuyện chàng sinh viên luật kiện tướng lê tuấn...        dantri.com.vn   \n",
       "222  tiền đạo malaysia hàng thủ đội tuyển việt nam ...        dantri.com.vn   \n",
       "\n",
       "     label  \n",
       "0        1  \n",
       "1        1  \n",
       "2        1  \n",
       "3        1  \n",
       "4        1  \n",
       "..     ...  \n",
       "218      0  \n",
       "219      0  \n",
       "220      0  \n",
       "221      0  \n",
       "222      0  \n",
       "\n",
       "[223 rows x 3 columns]"
      ]
     },
     "execution_count": 14,
     "metadata": {},
     "output_type": "execute_result"
    }
   ],
   "source": [
    "sub_data = preprocessing(vnfd_df)\n",
    "sub_data"
   ]
  },
  {
   "cell_type": "markdown",
   "id": "located-senegal",
   "metadata": {},
   "source": [
    "## Khám phá dữ liệu"
   ]
  },
  {
   "cell_type": "markdown",
   "id": "vital-sudan",
   "metadata": {},
   "source": [
    "#### Kiểm tra loại dữ liệu và dữ liệu thiếu"
   ]
  },
  {
   "cell_type": "code",
   "execution_count": 15,
   "id": "shared-invite",
   "metadata": {},
   "outputs": [
    {
     "data": {
      "text/plain": [
       "(223, 3)"
      ]
     },
     "execution_count": 15,
     "metadata": {},
     "output_type": "execute_result"
    }
   ],
   "source": [
    "sub_data.shape"
   ]
  },
  {
   "cell_type": "code",
   "execution_count": 16,
   "id": "closing-disaster",
   "metadata": {},
   "outputs": [
    {
     "name": "stdout",
     "output_type": "stream",
     "text": [
      "<class 'pandas.core.frame.DataFrame'>\n",
      "RangeIndex: 223 entries, 0 to 222\n",
      "Data columns (total 3 columns):\n",
      " #   Column  Non-Null Count  Dtype \n",
      "---  ------  --------------  ----- \n",
      " 0   text    223 non-null    object\n",
      " 1   domain  223 non-null    object\n",
      " 2   label   223 non-null    int64 \n",
      "dtypes: int64(1), object(2)\n",
      "memory usage: 5.4+ KB\n"
     ]
    }
   ],
   "source": [
    "sub_data.info()"
   ]
  },
  {
   "cell_type": "markdown",
   "id": "downtown-transcript",
   "metadata": {},
   "source": [
    "Nhận xét:\n",
    "- Domain thể hiện tên miền của bài báo, ta có thể chuyển về dạng string.\n",
    "- Text và Label xem chừng đã có kiểu dữ liệu phù hợp.\n",
    "- Dữ liệu không có cột nào bị thiếu."
   ]
  },
  {
   "cell_type": "markdown",
   "id": "interior-reserve",
   "metadata": {},
   "source": [
    "#### Phân bố của class"
   ]
  },
  {
   "cell_type": "code",
   "execution_count": 17,
   "id": "binding-baghdad",
   "metadata": {},
   "outputs": [
    {
     "data": {
      "image/png": "[encoded data removed]",
      "text/plain": [
       "<Figure size 432x288 with 1 Axes>"
      ]
     },
     "metadata": {
      "needs_background": "light"
     },
     "output_type": "display_data"
    }
   ],
   "source": [
    "class_per = round(sub_data.label.value_counts()/len(sub_data), 2)\n",
    "class_per.plot(kind = 'bar', color = ['r', 'b']);"
   ]
  },
  {
   "cell_type": "markdown",
   "id": "third-fight",
   "metadata": {},
   "source": [
    "Nhận xét: Tỉ lệ giữa 2 class trong bộ dữ liệu không có sự chênh lệch quá lớn."
   ]
  },
  {
   "cell_type": "markdown",
   "id": "subtle-bacteria",
   "metadata": {},
   "source": [
    "## Mô hình hóa"
   ]
  },
  {
   "cell_type": "markdown",
   "id": "precise-congress",
   "metadata": {},
   "source": [
    "### Split train - test set"
   ]
  },
  {
   "cell_type": "code",
   "execution_count": 18,
   "id": "colonial-multiple",
   "metadata": {},
   "outputs": [],
   "source": [
    "x_train,x_test,y_train,y_test=train_test_split(sub_data.text, sub_data.label, test_size=0.2, random_state=42)"
   ]
  },
  {
   "cell_type": "code",
   "execution_count": 19,
   "id": "broad-compact",
   "metadata": {},
   "outputs": [],
   "source": [
    "x_train,x_test,y_train,y_test=train_test_split(sub_data.text, sub_data.label, test_size=0.2, random_state=7)"
   ]
  },
  {
   "cell_type": "code",
   "execution_count": 20,
   "id": "universal-african",
   "metadata": {},
   "outputs": [],
   "source": [
    "tfidf_vectorizer = TfidfVectorizer(encoding = 'utf-8', stop_words=sw, tokenizer = tokenizer)"
   ]
  },
  {
   "cell_type": "code",
   "execution_count": null,
   "id": "general-notion",
   "metadata": {},
   "outputs": [],
   "source": []
  },
  {
   "cell_type": "code",
   "execution_count": 21,
   "id": "nervous-compound",
   "metadata": {
    "scrolled": true
   },
   "outputs": [],
   "source": [
    "tfidf_train=tfidf_vectorizer.fit_transform(x_train) \n",
    "tfidf_test=tfidf_vectorizer.transform(x_test)"
   ]
  },
  {
   "cell_type": "markdown",
   "id": "broken-bouquet",
   "metadata": {},
   "source": [
    "### Mô hình 1: Sử dụng Passive Aggressive Classifier"
   ]
  },
  {
   "cell_type": "code",
   "execution_count": 22,
   "id": "personal-writing",
   "metadata": {},
   "outputs": [
    {
     "name": "stdout",
     "output_type": "stream",
     "text": [
      "Accuracy: 88.89%\n"
     ]
    }
   ],
   "source": [
    "pac = PassiveAggressiveClassifier(max_iter=50)\n",
    "pac.fit(tfidf_train,y_train)\n",
    "pac_pred = pac.predict(tfidf_test)\n",
    "score = accuracy_score(y_test,pac_pred)\n",
    "print(f'Accuracy: {round(score*100,2)}%')"
   ]
  },
  {
   "cell_type": "code",
   "execution_count": 23,
   "id": "ambient-stewart",
   "metadata": {},
   "outputs": [],
   "source": [
    "# Save Model\n",
    "with open('PAC_pkl', 'wb') as files:\n",
    "    pickle.dump(pac, files)"
   ]
  },
  {
   "cell_type": "markdown",
   "id": "tender-criminal",
   "metadata": {},
   "source": [
    "### Mô hình 2: Sử dụng Logistic Regression"
   ]
  },
  {
   "cell_type": "code",
   "execution_count": 24,
   "id": "elect-cattle",
   "metadata": {},
   "outputs": [
    {
     "name": "stdout",
     "output_type": "stream",
     "text": [
      "Accuracy: 91.11%\n"
     ]
    }
   ],
   "source": [
    "LRC = LogisticRegression()\n",
    "LRC.fit(tfidf_train, y_train)\n",
    "lrc_pred = LRC.predict(tfidf_test)\n",
    "score = accuracy_score(y_test, lrc_pred)\n",
    "print(f'Accuracy: {round(score*100,2)}%')"
   ]
  },
  {
   "cell_type": "code",
   "execution_count": 25,
   "id": "common-moral",
   "metadata": {},
   "outputs": [],
   "source": [
    "# Save Model\n",
    "with open('LRC_pkl', 'wb') as files:\n",
    "    pickle.dump(LRC, files)"
   ]
  }
 ],
 "metadata": {
  "kernelspec": {
   "display_name": "Python 3",
   "language": "python",
   "name": "python3"
  },
  "language_info": {
   "codemirror_mode": {
    "name": "ipython",
    "version": 3
   },
   "file_extension": ".py",
   "mimetype": "text/x-python",
   "name": "python",
   "nbconvert_exporter": "python",
   "pygments_lexer": "ipython3",
   "version": "3.9.1"
  }
 },
 "nbformat": 4,
 "nbformat_minor": 5
}
